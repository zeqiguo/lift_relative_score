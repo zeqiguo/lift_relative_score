{
 "cells": [
  {
   "cell_type": "code",
   "execution_count": 1,
   "metadata": {},
   "outputs": [],
   "source": [
    "import os\n",
    "\n",
    "import numpy as np\n",
    "import pandas as pd\n"
   ]
  },
  {
   "cell_type": "code",
   "execution_count": 2,
   "metadata": {},
   "outputs": [],
   "source": [
    "\n",
    "# txt_test_sample.txt\n",
    "\n",
    "with open('Original_Forums.txt', mode='r', encoding='iso-8859-1') as f:\n",
    "    \n",
    "    # find CarType, MsgTitle, MsgAuther, MsgDate and Msg in file\n",
    "    car_type = []    # car tyepe: Makt + model\n",
    "    makes = []\n",
    "    msg_date = []\n",
    "    msg_title = []\n",
    "    msg_author = []\n",
    "    reviews = [] \n",
    "        \n",
    "    while True:\n",
    "            \n",
    "        end_of_message = False  # message end flag init\n",
    "        \n",
    "        line = f.readline()\n",
    "        if not line:\n",
    "            break\n",
    "            \n",
    "        if len(line) == 1:\n",
    "            # message session end when read blank line\n",
    "            end_of_message = True\n",
    "            \n",
    "        if end_of_message:\n",
    "            # when the message sessin end, append to review list\n",
    "            reviews.append(msg)\n",
    "            \n",
    "        if line.startswith('CarType:'):\n",
    "            # get car type line\n",
    "            type_ = line.split(':')[-1]\n",
    "            car_type.append(type_)\n",
    "            try:\n",
    "                makes.append(type_.split()[1])\n",
    "            except IndexError:\n",
    "                # error happened on '71-Mazda6'\n",
    "                makes.append(type_.split('-')[1].replace('6', ''))\n",
    "            msg = ''    # init msg      \n",
    "        elif line.startswith('MsgTitle:'):\n",
    "            msg_title.append(line.split(':')[-1])\n",
    "        elif line.startswith('MsgAuther:'):\n",
    "            msg_author.append(line.split(':')[-1])\n",
    "        elif line.startswith('MsgDate:'):\n",
    "            time = line.split('Date:')[-1]\n",
    "            msg_date.append(time)  \n",
    "        elif line.startswith(' ') and not end_of_message:\n",
    "            msg += line\n",
    "            \n",
    "    df = pd.DataFrame()\n",
    "    df['make'] = makes\n",
    "    df['type'] = car_type\n",
    "    df['title'] = msg_title\n",
    "    df['author'] = msg_author\n",
    "    df['date'] = msg_date\n",
    "    df['review'] = reviews\n",
    "\n",
    "\n",
    "for i in range(len(df.columns)):\n",
    "    # rm '\\n' in cells\n",
    "    df[df.columns[i]] = df[df.columns[i]].apply(lambda x: str(x).replace('\\n', ''))\n",
    "    \n",
    "# df.to_csv('original_review.csv', index=False)    "
   ]
  },
  {
   "cell_type": "code",
   "execution_count": 48,
   "metadata": {},
   "outputs": [
    {
     "data": {
      "text/plain": [
       "array(['Acura', 'Audi', 'BMW', 'Buick', 'Cadillac', 'Chevrolet',\n",
       "       'Chrysler', 'Dodge', 'Dodge/Plymouth', 'Ford', 'Honda', 'Hyundai',\n",
       "       'Infiniti', 'Jaguar', 'Kia', 'Lexus', 'Lincoln', 'Maserati',\n",
       "       'Mazda', 'Mercedes-Benz', 'Mercedes', 'Mitsubishi', 'Nissan',\n",
       "       'Oldsmobile', 'Pontiac', 'Saab', 'Saturn', 'Suzuki', 'Toyota',\n",
       "       'Volkswagen', 'Volvo'], dtype=object)"
      ]
     },
     "execution_count": 48,
     "metadata": {},
     "output_type": "execute_result"
    }
   ],
   "source": [
    "df.head()\n",
    "df['make'].unique()"
   ]
  },
  {
   "cell_type": "code",
   "execution_count": 49,
   "metadata": {},
   "outputs": [
    {
     "data": {
      "text/html": [
       "<div>\n",
       "<style scoped>\n",
       "    .dataframe tbody tr th:only-of-type {\n",
       "        vertical-align: middle;\n",
       "    }\n",
       "\n",
       "    .dataframe tbody tr th {\n",
       "        vertical-align: top;\n",
       "    }\n",
       "\n",
       "    .dataframe thead th {\n",
       "        text-align: right;\n",
       "    }\n",
       "</style>\n",
       "<table border=\"1\" class=\"dataframe\">\n",
       "  <thead>\n",
       "    <tr style=\"text-align: right;\">\n",
       "      <th></th>\n",
       "      <th>make</th>\n",
       "      <th>type</th>\n",
       "      <th>title</th>\n",
       "      <th>author</th>\n",
       "      <th>date</th>\n",
       "      <th>review</th>\n",
       "    </tr>\n",
       "  </thead>\n",
       "  <tbody>\n",
       "    <tr>\n",
       "      <th>count</th>\n",
       "      <td>401536</td>\n",
       "      <td>401536</td>\n",
       "      <td>400977</td>\n",
       "      <td>401536</td>\n",
       "      <td>401536</td>\n",
       "      <td>400105</td>\n",
       "    </tr>\n",
       "    <tr>\n",
       "      <th>unique</th>\n",
       "      <td>7</td>\n",
       "      <td>26</td>\n",
       "      <td>219108</td>\n",
       "      <td>40650</td>\n",
       "      <td>297188</td>\n",
       "      <td>329972</td>\n",
       "    </tr>\n",
       "    <tr>\n",
       "      <th>top</th>\n",
       "      <td>Honda</td>\n",
       "      <td>45-Honda Honda Accord</td>\n",
       "      <td></td>\n",
       "      <td></td>\n",
       "      <td></td>\n",
       "      <td>Thanks!</td>\n",
       "    </tr>\n",
       "    <tr>\n",
       "      <th>freq</th>\n",
       "      <td>92130</td>\n",
       "      <td>62635</td>\n",
       "      <td>15493</td>\n",
       "      <td>15695</td>\n",
       "      <td>15695</td>\n",
       "      <td>30</td>\n",
       "    </tr>\n",
       "  </tbody>\n",
       "</table>\n",
       "</div>"
      ],
      "text/plain": [
       "          make                    type   title  author    date     review\n",
       "count   401536                  401536  400977  401536  401536     400105\n",
       "unique       7                      26  219108   40650  297188     329972\n",
       "top      Honda   45-Honda Honda Accord                           Thanks! \n",
       "freq     92130                   62635   15493   15695   15695         30"
      ]
     },
     "execution_count": 49,
     "metadata": {},
     "output_type": "execute_result"
    }
   ],
   "source": [
    "# 6 brands for compare, and each brands saved as individual .csv\n",
    "makes = 'Honda Toyota Nissan Lexus BMW Audi Acura'.split()\n",
    "makes\n",
    "\n",
    "for i in makes:\n",
    "    temp = df[df['make'] == i]\n",
    "    temp = temp.dropna(axis=0)\n",
    "    temp.reset_index(inplace=True, drop=True)\n",
    "    temp.to_csv('data/{}.csv'.format(i), index=None)\n",
    "\n",
    "        \n",
    "merged = pd.read_csv('data/Honda.csv')\n",
    "merged = merged.append(pd.read_csv('data/Acura.csv'))\n",
    "merged = merged.append(pd.read_csv('data/Toyota.csv'))\n",
    "merged = merged.append(pd.read_csv('data/Nissan.csv'))\n",
    "merged = merged.append(pd.read_csv('data/Lexus.csv'))\n",
    "merged = merged.append(pd.read_csv('data/BMW.csv'))\n",
    "merged = merged.append(pd.read_csv('data/Audi.csv'))\n",
    "merged.reset_index(inplace=True, drop=True)\n",
    "merged.to_csv('data/merged7.csv', index=None)\n",
    "merged.describe()"
   ]
  },
  {
   "cell_type": "code",
   "execution_count": 23,
   "metadata": {},
   "outputs": [
    {
     "name": "stdout",
     "output_type": "stream",
     "text": [
      "<class 'pandas.core.frame.DataFrame'>\n",
      "RangeIndex: 92130 entries, 0 to 92129\n",
      "Data columns (total 6 columns):\n",
      "make      92130 non-null object\n",
      "type      92130 non-null object\n",
      "title     91978 non-null object\n",
      "author    92130 non-null object\n",
      "date      92130 non-null object\n",
      "review    91916 non-null object\n",
      "dtypes: object(6)\n",
      "memory usage: 4.2+ MB\n"
     ]
    }
   ],
   "source": [
    "temp.info()"
   ]
  },
  {
   "cell_type": "code",
   "execution_count": 45,
   "metadata": {},
   "outputs": [
    {
     "name": "stdout",
     "output_type": "stream",
     "text": [
      "{'Honda': 92130, 'Toyota': 55362, 'Nissan': 31877, 'BMW': 88721, 'Audi': 31438, 'Acura': 46816}\n"
     ]
    }
   ],
   "source": [
    "# merged = pd.read_csv('data/merged6.csv')\n",
    " \n",
    "norm = {}  # count the num of brands reviews\n",
    "for i in makes:\n",
    "    temp = pd.read_csv('data/{}.csv'.format(i))\n",
    "    norm['{}'.format(i)] = temp.shape[0]\n",
    "print(norm)"
   ]
  },
  {
   "cell_type": "code",
   "execution_count": 47,
   "metadata": {},
   "outputs": [
    {
     "name": "stdout",
     "output_type": "stream",
     "text": [
      "{'Honda_Toyota_lift': 2332, 'Honda_Nissan_lift': 440, 'Honda_BMW_lift': 1002, 'Honda_Audi_lift': 192, 'Honda_Acura_lift': 1009}\n",
      "{'Toyota_Honda_lift': 6416, 'Toyota_Nissan_lift': 511, 'Toyota_BMW_lift': 1185, 'Toyota_Audi_lift': 182, 'Toyota_Acura_lift': 576}\n",
      "{'Nissan_Honda_lift': 8497, 'Nissan_Toyota_lift': 3883, 'Nissan_BMW_lift': 1861, 'Nissan_Audi_lift': 323, 'Nissan_Acura_lift': 869}\n",
      "{'BMW_Honda_lift': 1512, 'BMW_Toyota_lift': 687, 'BMW_Nissan_lift': 311, 'BMW_Audi_lift': 1304, 'BMW_Acura_lift': 1219}\n",
      "{'Audi_Honda_lift': 2192, 'Audi_Toyota_lift': 1209, 'Audi_Nissan_lift': 409, 'Audi_BMW_lift': 12372, 'Audi_Acura_lift': 1992}\n",
      "{'Acura_Honda_lift': 6812, 'Acura_Toyota_lift': 1135, 'Acura_Nissan_lift': 502, 'Acura_BMW_lift': 10335, 'Acura_Audi_lift': 1691}\n"
     ]
    }
   ],
   "source": [
    "for outer_make in makes:\n",
    "    \n",
    "    frequency = {}   # count comentioned \n",
    "    lift = {}\n",
    "    temp = pd.read_csv('data/{}.csv'.format(outer_make))\n",
    "    norm['{}'.format(outer_make)] = temp.shape[0]\n",
    "    \n",
    "    for inner_make in [make for make in makes if make != outer_make]:\n",
    "        counter = 0   # counter for appearence\n",
    "        for review in temp['review']:\n",
    "            if inner_make in str(review):\n",
    "                counter += 1\n",
    "        combined_name = '{}_{}'.format(outer_make, inner_make)\n",
    "        frequency[combined_name] = counter\n",
    "        lift[combined_name+'_lift'] = \\\n",
    "                int(frequency[combined_name] / \\\n",
    "                    norm[combined_name.split('_')[0]] * norm[combined_name.split('_')[1]])\n",
    "#     print(frequency)\n",
    "    print(lift)"
   ]
  },
  {
   "cell_type": "code",
   "execution_count": null,
   "metadata": {},
   "outputs": [],
   "source": [
    "# sort\n",
    "# 3-gram\n",
    "# comments"
   ]
  },
  {
   "cell_type": "code",
   "execution_count": 34,
   "metadata": {},
   "outputs": [
    {
     "data": {
      "text/plain": [
       "1"
      ]
     },
     "execution_count": 34,
     "metadata": {},
     "output_type": "execute_result"
    }
   ],
   "source": []
  },
  {
   "cell_type": "code",
   "execution_count": null,
   "metadata": {},
   "outputs": [],
   "source": []
  }
 ],
 "metadata": {
  "kernelspec": {
   "display_name": "Python 3",
   "language": "python",
   "name": "python3"
  },
  "language_info": {
   "codemirror_mode": {
    "name": "ipython",
    "version": 3
   },
   "file_extension": ".py",
   "mimetype": "text/x-python",
   "name": "python",
   "nbconvert_exporter": "python",
   "pygments_lexer": "ipython3",
   "version": "3.6.7"
  }
 },
 "nbformat": 4,
 "nbformat_minor": 2
}
