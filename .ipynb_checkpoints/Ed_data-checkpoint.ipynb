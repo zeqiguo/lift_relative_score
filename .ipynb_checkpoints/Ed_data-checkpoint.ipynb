{
 "cells": [
  {
   "cell_type": "code",
   "execution_count": 17,
   "metadata": {},
   "outputs": [],
   "source": [
    "import os \n",
    "\n",
    "\n",
    "import pandas as pd\n",
    "\n"
   ]
  },
  {
   "cell_type": "code",
   "execution_count": 14,
   "metadata": {},
   "outputs": [],
   "source": [
    "# from root to get all file path \n",
    "\n",
    "file_path = []  # saved all file path \n",
    "\n",
    "def file_path_generator():\n",
    "    root = 'OpinRank/cars/data/'\n",
    "\n",
    "    for year in os.listdir(root):\n",
    "        if year.endswith('csv'):\n",
    "            continue   # skip .csv file\n",
    "        for file in os.listdir(root+year):\n",
    "            file_path.append(root+year+'/'+file)\n",
    "            \n",
    "file_path_generator()\n"
   ]
  },
  {
   "cell_type": "code",
   "execution_count": null,
   "metadata": {},
   "outputs": [],
   "source": []
  },
  {
   "cell_type": "code",
   "execution_count": 18,
   "metadata": {},
   "outputs": [
    {
     "data": {
      "text/html": [
       "<div>\n",
       "<style scoped>\n",
       "    .dataframe tbody tr th:only-of-type {\n",
       "        vertical-align: middle;\n",
       "    }\n",
       "\n",
       "    .dataframe tbody tr th {\n",
       "        vertical-align: top;\n",
       "    }\n",
       "\n",
       "    .dataframe thead th {\n",
       "        text-align: right;\n",
       "    }\n",
       "</style>\n",
       "<table border=\"1\" class=\"dataframe\">\n",
       "  <thead>\n",
       "    <tr style=\"text-align: right;\">\n",
       "      <th></th>\n",
       "      <th>Make</th>\n",
       "      <th>Model</th>\n",
       "      <th>Year</th>\n",
       "      <th>Author</th>\n",
       "      <th>Date</th>\n",
       "      <th>Reviews</th>\n",
       "      <th>Favorite</th>\n",
       "    </tr>\n",
       "  </thead>\n",
       "  <tbody>\n",
       "  </tbody>\n",
       "</table>\n",
       "</div>"
      ],
      "text/plain": [
       "Empty DataFrame\n",
       "Columns: [Make, Model, Year, Author, Date, Reviews, Favorite]\n",
       "Index: []"
      ]
     },
     "execution_count": 18,
     "metadata": {},
     "output_type": "execute_result"
    }
   ],
   "source": [
    "makes = []\n",
    "models = []\n",
    "years = []\n",
    "date_list = []\n",
    "authors = []\n",
    "reviews = []\n",
    "favorites = []\n",
    "\n",
    "def detail_extractor():\n",
    "    for file in file_path:\n",
    "        counter = 0\n",
    "        with open(file=file, mode='r', encoding='ISO-8859-1') as f:\n",
    "            while True:\n",
    "                line = f.readline()\n",
    "                    \n",
    "                if line.startswith('<DATE>'):\n",
    "                    date_list.append(line)\n",
    "                if line.startswith('<AUTHOR>'):\n",
    "                    authors.append(line)\n",
    "                if line.startswith('<TEXT>'):\n",
    "                    reviews.append(line)\n",
    "                if line.startswith('<FAVORITE>'):\n",
    "                    favorites.append(line)\n",
    "            \n",
    "                counter += 1 \n",
    "                if not line:\n",
    "                    break         # break when file ends\n",
    "                    \n",
    "            make = file.split('/')[-1].split('_')[1]\n",
    "            model = file.split('/')[-1].split('_')[-1]\n",
    "            year = file.split('/')[-1].split('_')[0]\n",
    "            \n",
    "            makes += [make for _ in range(counter)]\n",
    "            models += [model for _ in range(counter)]\n",
    "            years += [year for _ in range(counter)]\n",
    "            \n",
    "\n",
    "def csv_generator():\n",
    "    df = pd.DataFrame(columns=['Make', 'Model', 'Year', 'Author', 'Date', 'Reviews', 'Favorite'])\n",
    "    df['Make'] = makes\n",
    "    df['Model'] = models\n",
    "    df['Year'] = years\n",
    "    df['Author'] = authors\n",
    "    df['Date'] = date_list\n",
    "    df['Reviews'] = reviews\n",
    "    df['Favorite'] = favorites\n",
    "    \n",
    "    df.to_csv('init_table.csv', index=False)\n",
    "    \n",
    "    \n",
    "detail_extractor()\n",
    "csv_generator()"
   ]
  },
  {
   "cell_type": "code",
   "execution_count": null,
   "metadata": {},
   "outputs": [],
   "source": []
  },
  {
   "cell_type": "code",
   "execution_count": null,
   "metadata": {},
   "outputs": [],
   "source": []
  },
  {
   "cell_type": "code",
   "execution_count": null,
   "metadata": {},
   "outputs": [],
   "source": []
  },
  {
   "cell_type": "code",
   "execution_count": null,
   "metadata": {},
   "outputs": [],
   "source": []
  }
 ],
 "metadata": {
  "kernelspec": {
   "display_name": "Python 3",
   "language": "python",
   "name": "python3"
  },
  "language_info": {
   "codemirror_mode": {
    "name": "ipython",
    "version": 3
   },
   "file_extension": ".py",
   "mimetype": "text/x-python",
   "name": "python",
   "nbconvert_exporter": "python",
   "pygments_lexer": "ipython3",
   "version": "3.6.7"
  }
 },
 "nbformat": 4,
 "nbformat_minor": 2
}
