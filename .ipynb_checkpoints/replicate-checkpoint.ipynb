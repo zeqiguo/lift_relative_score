{
 "cells": [
  {
   "cell_type": "code",
   "execution_count": 1,
   "metadata": {},
   "outputs": [],
   "source": [
    "import os\n",
    "import operator\n",
    "\n",
    "import numpy as np\n",
    "import pandas as pd\n"
   ]
  },
  {
   "cell_type": "code",
   "execution_count": 2,
   "metadata": {},
   "outputs": [],
   "source": [
    "\n",
    "# txt_test_sample.txt\n",
    "\n",
    "with open('Original_Forums.txt', mode='r', encoding='iso-8859-1') as f:\n",
    "    \n",
    "    # find CarType, MsgTitle, MsgAuther, MsgDate and Msg in file\n",
    "    car_type = []    # car tyepe: Makt + model\n",
    "    makes = []\n",
    "    msg_date = []\n",
    "    msg_title = []\n",
    "    msg_author = []\n",
    "    reviews = [] \n",
    "        \n",
    "    while True:\n",
    "            \n",
    "        end_of_message = False  # message end flag init\n",
    "        \n",
    "        line = f.readline()\n",
    "        if not line:\n",
    "            break\n",
    "            \n",
    "        if len(line) == 1:\n",
    "            # message session end when read blank line\n",
    "            end_of_message = True\n",
    "            \n",
    "        if end_of_message:\n",
    "            # when the message sessin end, append to review list\n",
    "            reviews.append(msg)\n",
    "            \n",
    "        if line.startswith('CarType:'):\n",
    "            # get car type line\n",
    "            type_ = line.split(':')[-1]\n",
    "            car_type.append(type_)\n",
    "            try:\n",
    "                makes.append(type_.split()[1])\n",
    "            except IndexError:\n",
    "                # error happened on '71-Mazda6'\n",
    "                makes.append(type_.split('-')[1].replace('6', ''))\n",
    "            msg = ''    # init msg      \n",
    "        elif line.startswith('MsgTitle:'):\n",
    "            msg_title.append(line.split(':')[-1])\n",
    "        elif line.startswith('MsgAuther:'):\n",
    "            msg_author.append(line.split(':')[-1])\n",
    "        elif line.startswith('MsgDate:'):\n",
    "            time = line.split('Date:')[-1]\n",
    "            msg_date.append(time)  \n",
    "        elif line.startswith(' ') and not end_of_message:\n",
    "            msg += line\n",
    "            \n",
    "    df = pd.DataFrame()\n",
    "    df['make'] = makes\n",
    "    df['type'] = car_type\n",
    "    df['title'] = msg_title\n",
    "    df['author'] = msg_author\n",
    "    df['date'] = msg_date\n",
    "    df['review'] = reviews\n",
    "\n",
    "\n",
    "for i in range(len(df.columns)):\n",
    "    # rm '\\n' in cells\n",
    "    df[df.columns[i]] = df[df.columns[i]].apply(lambda x: str(x).replace('\\n', ''))\n",
    "    \n",
    "# df.to_csv('original_review.csv', index=False)    "
   ]
  },
  {
   "cell_type": "code",
   "execution_count": 3,
   "metadata": {},
   "outputs": [
    {
     "data": {
      "text/plain": [
       "array(['Acura', 'Audi', 'BMW', 'Buick', 'Cadillac', 'Chevrolet',\n",
       "       'Chrysler', 'Dodge', 'Dodge/Plymouth', 'Ford', 'Honda', 'Hyundai',\n",
       "       'Infiniti', 'Jaguar', 'Kia', 'Lexus', 'Lincoln', 'Maserati',\n",
       "       'Mazda', 'Mercedes-Benz', 'Mercedes', 'Mitsubishi', 'Nissan',\n",
       "       'Oldsmobile', 'Pontiac', 'Saab', 'Saturn', 'Suzuki', 'Toyota',\n",
       "       'Volkswagen', 'Volvo'], dtype=object)"
      ]
     },
     "execution_count": 3,
     "metadata": {},
     "output_type": "execute_result"
    }
   ],
   "source": [
    "df.head()\n",
    "df['make'].unique()"
   ]
  },
  {
   "cell_type": "code",
   "execution_count": 3,
   "metadata": {},
   "outputs": [
    {
     "data": {
      "text/plain": [
       "['Honda', 'Toyota', 'Nissan', 'Lexus', 'BMW', 'Audi', 'Acura']"
      ]
     },
     "execution_count": 3,
     "metadata": {},
     "output_type": "execute_result"
    }
   ],
   "source": [
    "# 6 brands for compare, and each brands saved as individual .csv\n",
    "makes = 'Honda Toyota Nissan Lexus BMW Audi Acura'.split()\n",
    "makes"
   ]
  },
  {
   "cell_type": "code",
   "execution_count": 4,
   "metadata": {},
   "outputs": [
    {
     "data": {
      "text/html": [
       "<div>\n",
       "<style scoped>\n",
       "    .dataframe tbody tr th:only-of-type {\n",
       "        vertical-align: middle;\n",
       "    }\n",
       "\n",
       "    .dataframe tbody tr th {\n",
       "        vertical-align: top;\n",
       "    }\n",
       "\n",
       "    .dataframe thead th {\n",
       "        text-align: right;\n",
       "    }\n",
       "</style>\n",
       "<table border=\"1\" class=\"dataframe\">\n",
       "  <thead>\n",
       "    <tr style=\"text-align: right;\">\n",
       "      <th></th>\n",
       "      <th>make</th>\n",
       "      <th>type</th>\n",
       "      <th>title</th>\n",
       "      <th>author</th>\n",
       "      <th>date</th>\n",
       "      <th>review</th>\n",
       "    </tr>\n",
       "  </thead>\n",
       "  <tbody>\n",
       "    <tr>\n",
       "      <th>count</th>\n",
       "      <td>401536</td>\n",
       "      <td>401536</td>\n",
       "      <td>400977</td>\n",
       "      <td>401536</td>\n",
       "      <td>401536</td>\n",
       "      <td>400105</td>\n",
       "    </tr>\n",
       "    <tr>\n",
       "      <th>unique</th>\n",
       "      <td>7</td>\n",
       "      <td>26</td>\n",
       "      <td>219108</td>\n",
       "      <td>40650</td>\n",
       "      <td>297188</td>\n",
       "      <td>329972</td>\n",
       "    </tr>\n",
       "    <tr>\n",
       "      <th>top</th>\n",
       "      <td>Honda</td>\n",
       "      <td>45-Honda Honda Accord</td>\n",
       "      <td></td>\n",
       "      <td></td>\n",
       "      <td></td>\n",
       "      <td>Thanks!</td>\n",
       "    </tr>\n",
       "    <tr>\n",
       "      <th>freq</th>\n",
       "      <td>92130</td>\n",
       "      <td>62635</td>\n",
       "      <td>15493</td>\n",
       "      <td>15695</td>\n",
       "      <td>15695</td>\n",
       "      <td>30</td>\n",
       "    </tr>\n",
       "  </tbody>\n",
       "</table>\n",
       "</div>"
      ],
      "text/plain": [
       "          make                    type   title  author    date     review\n",
       "count   401536                  401536  400977  401536  401536     400105\n",
       "unique       7                      26  219108   40650  297188     329972\n",
       "top      Honda   45-Honda Honda Accord                           Thanks! \n",
       "freq     92130                   62635   15493   15695   15695         30"
      ]
     },
     "execution_count": 4,
     "metadata": {},
     "output_type": "execute_result"
    }
   ],
   "source": [
    "for i in makes:\n",
    "    temp = df[df['make'] == i]\n",
    "    temp = temp.dropna(axis=0)\n",
    "    temp.reset_index(inplace=True, drop=True)\n",
    "    temp.to_csv('data/{}.csv'.format(i), index=None)\n",
    "\n",
    "        \n",
    "merged = pd.read_csv('data/Honda.csv')\n",
    "merged = merged.append(pd.read_csv('data/Acura.csv'))\n",
    "merged = merged.append(pd.read_csv('data/Toyota.csv'))\n",
    "merged = merged.append(pd.read_csv('data/Nissan.csv'))\n",
    "merged = merged.append(pd.read_csv('data/Lexus.csv'))\n",
    "merged = merged.append(pd.read_csv('data/BMW.csv'))\n",
    "merged = merged.append(pd.read_csv('data/Audi.csv'))\n",
    "merged.reset_index(inplace=True, drop=True)\n",
    "merged.to_csv('data/merged7.csv', index=None)\n",
    "merged.describe()"
   ]
  },
  {
   "cell_type": "code",
   "execution_count": 5,
   "metadata": {},
   "outputs": [
    {
     "name": "stdout",
     "output_type": "stream",
     "text": [
      "<class 'pandas.core.frame.DataFrame'>\n",
      "RangeIndex: 46816 entries, 0 to 46815\n",
      "Data columns (total 6 columns):\n",
      "make      46816 non-null object\n",
      "type      46816 non-null object\n",
      "title     46816 non-null object\n",
      "author    46816 non-null object\n",
      "date      46816 non-null object\n",
      "review    46816 non-null object\n",
      "dtypes: object(6)\n",
      "memory usage: 2.1+ MB\n"
     ]
    }
   ],
   "source": [
    "temp.info()"
   ]
  },
  {
   "cell_type": "code",
   "execution_count": 15,
   "metadata": {},
   "outputs": [
    {
     "name": "stdout",
     "output_type": "stream",
     "text": [
      "{'Honda': 92130, 'Toyota': 55362, 'Nissan': 31877, 'Lexus': 55192, 'BMW': 88721, 'Audi': 31438, 'Acura': 46816}\n"
     ]
    }
   ],
   "source": [
    "# merged = pd.read_csv('data/merged6.csv')\n",
    " \n",
    "num_review = {}  # count the num of brands reviews\n",
    "for i in makes:\n",
    "    temp = pd.read_csv('data/{}.csv'.format(i))\n",
    "    num_review['{}'.format(i)] = temp.shape[0]\n",
    "print(num_review)"
   ]
  },
  {
   "cell_type": "markdown",
   "metadata": {},
   "source": [
    "$$LIFT = \\frac{P(A*B)}{P(A)*P(B)}$$\n",
    "P(A*B) means the count of A and B co-mentioned.<br>\n",
    "P(A) and P(B) means count of A or B reviews "
   ]
  },
  {
   "cell_type": "code",
   "execution_count": 36,
   "metadata": {},
   "outputs": [
    {
     "name": "stdout",
     "output_type": "stream",
     "text": [
      "[('Honda_BMW_lift', 1.274), ('Honda_Lexus_lift', 1.554), ('Honda_Audi_lift', 1.947), ('Honda_Nissan_lift', 4.331), ('Honda_Acura_lift', 4.605), ('Honda_Toyota_lift', 7.611)]\n",
      "[('Toyota_BMW_lift', 1.507), ('Toyota_Audi_lift', 1.85), ('Toyota_Acura_lift', 2.631), ('Toyota_Lexus_lift', 4.608), ('Toyota_Nissan_lift', 5.032), ('Toyota_Honda_lift', 7.56)]\n",
      "[('Nissan_BMW_lift', 2.365), ('Nissan_Lexus_lift', 2.796), ('Nissan_Audi_lift', 3.273), ('Nissan_Acura_lift', 3.967), ('Nissan_Honda_lift', 10.011), ('Nissan_Toyota_lift', 12.67)]\n",
      "[('Lexus_Honda_lift', 2.212), ('Lexus_Nissan_lift', 3.78), ('Lexus_Acura_lift', 8.41), ('Lexus_Toyota_lift', 9.913), ('Lexus_BMW_lift', 14.05), ('Lexus_Audi_lift', 14.201)]\n",
      "[('BMW_Honda_lift', 1.783), ('BMW_Toyota_lift', 2.244), ('BMW_Nissan_lift', 3.069), ('BMW_Acura_lift', 5.564), ('BMW_Lexus_lift', 7.593), ('BMW_Audi_lift', 13.201)]\n",
      "[('Audi_Honda_lift', 2.583), ('Audi_Toyota_lift', 3.947), ('Audi_Nissan_lift', 4.031), ('Audi_Acura_lift', 9.091), ('Audi_Lexus_lift', 12.063), ('Audi_BMW_lift', 15.718)]\n",
      "[('Acura_Toyota_lift', 3.704), ('Acura_Nissan_lift', 4.945), ('Acura_Honda_lift', 8.027), ('Acura_Lexus_lift', 11.189), ('Acura_BMW_lift', 13.131), ('Acura_Audi_lift', 17.115)]\n"
     ]
    }
   ],
   "source": [
    "def bi_gram(makes):\n",
    "    for outer_make in makes:\n",
    "\n",
    "        frequency = {}   # count comentioned \n",
    "        lift = {}\n",
    "        temp = pd.read_csv('data/{}.csv'.format(outer_make))\n",
    "        num_review['{}'.format(outer_make)] = temp.shape[0]\n",
    "\n",
    "        for inner_make in [make for make in makes if make != outer_make]:\n",
    "            counter = 0   # counter for appearence\n",
    "            combined_name = '{}_{}'.format(outer_make, inner_make)\n",
    "            \n",
    "            for review in temp['review']:\n",
    "                if inner_make in str(review):\n",
    "                    counter += 1\n",
    "            frequency[combined_name] = counter\n",
    "            lift[combined_name+'_lift'] = \\\n",
    "                    round(frequency[combined_name] / \\\n",
    "                    (num_review[combined_name.split('_')[0]] * \\\n",
    "                    num_review[combined_name.split('_')[1]]) * 10 ** 7, 3)     # scale by 10e7 and keep 3 digits\n",
    "    #     print(frequency)\n",
    "        sorted_lift = sorted(lift.items(), key=operator.itemgetter(1))         # sort dict by value in increading\n",
    "        print(sorted_lift)\n",
    "        \n",
    "bi_gram(makes)\n",
    "    "
   ]
  },
  {
   "cell_type": "code",
   "execution_count": 40,
   "metadata": {},
   "outputs": [
    {
     "name": "stdout",
     "output_type": "stream",
     "text": [
      "[('Honda_Nissan_BMW_lift', 2.648), ('Honda_BMW_Nissan_lift', 2.648), ('Honda_Lexus_Audi_lift', 2.878), ('Honda_Audi_Lexus_lift', 2.878), ('Honda_Lexus_BMW_lift', 3.236), ('Honda_BMW_Lexus_lift', 3.236), ('Honda_Nissan_Audi_lift', 3.358), ('Honda_Audi_Nissan_lift', 3.358), ('Honda_Toyota_BMW_lift', 3.624), ('Honda_BMW_Toyota_lift', 3.624), ('Honda_BMW_Acura_lift', 4.338), ('Honda_Acura_BMW_lift', 4.338), ('Honda_Nissan_Lexus_lift', 4.442), ('Honda_Lexus_Nissan_lift', 4.442), ('Honda_BMW_Audi_lift', 4.514), ('Honda_Audi_BMW_lift', 4.514), ('Honda_Toyota_Audi_lift', 4.74), ('Honda_Audi_Toyota_lift', 4.74), ('Honda_Audi_Acura_lift', 5.752), ('Honda_Acura_Audi_lift', 5.752), ('Honda_Nissan_Acura_lift', 7.491), ('Honda_Acura_Nissan_lift', 7.491), ('Honda_Lexus_Acura_lift', 8.696), ('Honda_Acura_Lexus_lift', 8.696), ('Honda_Toyota_Lexus_lift', 9.165), ('Honda_Lexus_Toyota_lift', 9.165), ('Honda_Toyota_Acura_lift', 9.213), ('Honda_Acura_Toyota_lift', 9.213), ('Honda_Toyota_Nissan_lift', 34.689), ('Honda_Nissan_Toyota_lift', 34.689)]\n",
      "\n",
      "\n",
      "[('Toyota_Nissan_BMW_lift', 3.321), ('Toyota_BMW_Nissan_lift', 3.321), ('Toyota_Lexus_Audi_lift', 3.331), ('Toyota_Audi_Lexus_lift', 3.331), ('Toyota_BMW_Acura_lift', 3.349), ('Toyota_Acura_BMW_lift', 3.349), ('Toyota_Honda_BMW_lift', 3.602), ('Toyota_BMW_Honda_lift', 3.602), ('Toyota_BMW_Audi_lift', 4.145), ('Toyota_Audi_BMW_lift', 4.145), ('Toyota_Audi_Acura_lift', 4.295), ('Toyota_Acura_Audi_lift', 4.295), ('Toyota_Nissan_Audi_lift', 4.506), ('Toyota_Audi_Nissan_lift', 4.506), ('Toyota_Honda_Audi_lift', 4.615), ('Toyota_Audi_Honda_lift', 4.615), ('Toyota_Lexus_BMW_lift', 4.722), ('Toyota_BMW_Lexus_lift', 4.722), ('Toyota_Nissan_Acura_lift', 5.931), ('Toyota_Acura_Nissan_lift', 5.931), ('Toyota_Honda_Lexus_lift', 6.536), ('Toyota_Lexus_Honda_lift', 6.536), ('Toyota_Nissan_Lexus_lift', 8.111), ('Toyota_Lexus_Nissan_lift', 8.111), ('Toyota_Lexus_Acura_lift', 11.115), ('Toyota_Acura_Lexus_lift', 11.115), ('Toyota_Honda_Acura_lift', 11.391), ('Toyota_Acura_Honda_lift', 11.391), ('Toyota_Honda_Nissan_lift', 25.709), ('Toyota_Nissan_Honda_lift', 25.709)]\n",
      "\n",
      "\n",
      "[('Nissan_Honda_BMW_lift', 6.141), ('Nissan_BMW_Honda_lift', 6.141), ('Nissan_Honda_Lexus_lift', 6.971), ('Nissan_Lexus_Honda_lift', 6.971), ('Nissan_Lexus_BMW_lift', 7.111), ('Nissan_BMW_Lexus_lift', 7.111), ('Nissan_Toyota_BMW_lift', 7.217), ('Nissan_BMW_Toyota_lift', 7.217), ('Nissan_BMW_Acura_lift', 7.628), ('Nissan_Acura_BMW_lift', 7.628), ('Nissan_Honda_Audi_lift', 7.907), ('Nissan_Audi_Honda_lift', 7.907), ('Nissan_Toyota_Audi_lift', 7.931), ('Nissan_Audi_Toyota_lift', 7.931), ('Nissan_Lexus_Audi_lift', 8.678), ('Nissan_Audi_Lexus_lift', 8.678), ('Nissan_Audi_Acura_lift', 8.739), ('Nissan_Acura_Audi_lift', 8.739), ('Nissan_BMW_Audi_lift', 10.46), ('Nissan_Audi_BMW_lift', 10.46), ('Nissan_Lexus_Acura_lift', 12.869), ('Nissan_Acura_Lexus_lift', 12.869), ('Nissan_Honda_Acura_lift', 13.601), ('Nissan_Acura_Honda_lift', 13.601), ('Nissan_Toyota_Acura_lift', 14.524), ('Nissan_Acura_Toyota_lift', 14.524), ('Nissan_Toyota_Lexus_lift', 16.53), ('Nissan_Lexus_Toyota_lift', 16.53), ('Nissan_Honda_Toyota_lift', 77.066), ('Nissan_Toyota_Honda_lift', 77.066)]\n",
      "\n",
      "\n",
      "[('Lexus_Honda_BMW_lift', 6.872), ('Lexus_BMW_Honda_lift', 6.872), ('Lexus_Honda_Audi_lift', 8.633), ('Lexus_Audi_Honda_lift', 8.633), ('Lexus_Honda_Nissan_lift', 10.303), ('Lexus_Nissan_Honda_lift', 10.303), ('Lexus_Honda_Toyota_lift', 13.215), ('Lexus_Toyota_Honda_lift', 13.215), ('Lexus_Nissan_BMW_lift', 13.39), ('Lexus_BMW_Nissan_lift', 13.39), ('Lexus_Honda_Acura_lift', 13.779), ('Lexus_Acura_Honda_lift', 13.779), ('Lexus_Nissan_Audi_lift', 15.91), ('Lexus_Audi_Nissan_lift', 15.91), ('Lexus_Nissan_Acura_lift', 16.754), ('Lexus_Acura_Nissan_lift', 16.754), ('Lexus_Toyota_Acura_lift', 17.477), ('Lexus_Acura_Toyota_lift', 17.477), ('Lexus_Toyota_Audi_lift', 20.3), ('Lexus_Audi_Toyota_lift', 20.3), ('Lexus_Toyota_BMW_lift', 21.211), ('Lexus_BMW_Toyota_lift', 21.211), ('Lexus_Toyota_Nissan_lift', 24.024), ('Lexus_Nissan_Toyota_lift', 24.024), ('Lexus_BMW_Acura_lift', 37.122), ('Lexus_Acura_BMW_lift', 37.122), ('Lexus_Audi_Acura_lift', 56.997), ('Lexus_Acura_Audi_lift', 56.997), ('Lexus_BMW_Audi_lift', 86.201), ('Lexus_Audi_BMW_lift', 86.201)]\n",
      "\n",
      "\n",
      "[('BMW_Honda_Lexus_lift', 5.675), ('BMW_Lexus_Honda_lift', 5.675), ('BMW_Honda_Audi_lift', 7.316), ('BMW_Audi_Honda_lift', 7.316), ('BMW_Toyota_Acura_lift', 7.523), ('BMW_Acura_Toyota_lift', 7.523), ('BMW_Honda_Toyota_lift', 8.11), ('BMW_Toyota_Honda_lift', 8.11), ('BMW_Honda_Nissan_lift', 9.134), ('BMW_Nissan_Honda_lift', 9.134), ('BMW_Toyota_Audi_lift', 10.103), ('BMW_Audi_Toyota_lift', 10.103), ('BMW_Honda_Acura_lift', 10.192), ('BMW_Acura_Honda_lift', 10.192), ('BMW_Nissan_Lexus_lift', 11.211), ('BMW_Lexus_Nissan_lift', 11.211), ('BMW_Toyota_Nissan_lift', 12.774), ('BMW_Nissan_Toyota_lift', 12.774), ('BMW_Nissan_Acura_lift', 13.67), ('BMW_Acura_Nissan_lift', 13.67), ('BMW_Toyota_Lexus_lift', 14.46), ('BMW_Lexus_Toyota_lift', 14.46), ('BMW_Nissan_Audi_lift', 16.758), ('BMW_Audi_Nissan_lift', 16.758), ('BMW_Lexus_Acura_lift', 36.468), ('BMW_Acura_Lexus_lift', 36.468), ('BMW_Audi_Acura_lift', 48.246), ('BMW_Acura_Audi_lift', 48.246), ('BMW_Lexus_Audi_lift', 55.735), ('BMW_Audi_Lexus_lift', 55.735)]\n",
      "\n",
      "\n",
      "[('Audi_Honda_BMW_lift', 8.756), ('Audi_BMW_Honda_lift', 8.756), ('Audi_Honda_Lexus_lift', 11.135), ('Audi_Lexus_Honda_lift', 11.135), ('Audi_Toyota_BMW_lift', 13.859), ('Audi_BMW_Toyota_lift', 13.859), ('Audi_Honda_Nissan_lift', 13.972), ('Audi_Nissan_Honda_lift', 13.972), ('Audi_Nissan_BMW_lift', 14.171), ('Audi_BMW_Nissan_lift', 14.171), ('Audi_Honda_Toyota_lift', 16.838), ('Audi_Toyota_Honda_lift', 16.838), ('Audi_Toyota_Acura_lift', 16.936), ('Audi_Acura_Toyota_lift', 16.936), ('Audi_Honda_Acura_lift', 17.552), ('Audi_Acura_Honda_lift', 17.552), ('Audi_Nissan_Lexus_lift', 18.08), ('Audi_Lexus_Nissan_lift', 18.08), ('Audi_Nissan_Acura_lift', 20.675), ('Audi_Acura_Nissan_lift', 20.675), ('Audi_Toyota_Nissan_lift', 24.513), ('Audi_Nissan_Toyota_lift', 24.513), ('Audi_Toyota_Lexus_lift', 27.691), ('Audi_Lexus_Toyota_lift', 27.691), ('Audi_BMW_Acura_lift', 43.958), ('Audi_Acura_BMW_lift', 43.958), ('Audi_Lexus_BMW_lift', 59.568), ('Audi_BMW_Lexus_lift', 59.568), ('Audi_Lexus_Acura_lift', 64.999), ('Audi_Acura_Lexus_lift', 64.999)]\n",
      "\n",
      "\n",
      "[('Acura_Toyota_BMW_lift', 10.307), ('Acura_BMW_Toyota_lift', 10.307), ('Acura_Honda_BMW_lift', 14.007), ('Acura_BMW_Honda_lift', 14.007), ('Acura_Toyota_Audi_lift', 15.464), ('Acura_Audi_Toyota_lift', 15.464), ('Acura_Nissan_BMW_lift', 16.389), ('Acura_BMW_Nissan_lift', 16.389), ('Acura_Honda_Toyota_lift', 16.877), ('Acura_Toyota_Honda_lift', 16.877), ('Acura_Honda_Lexus_lift', 17.223), ('Acura_Lexus_Honda_lift', 17.223), ('Acura_Nissan_Lexus_lift', 17.847), ('Acura_Lexus_Nissan_lift', 17.847), ('Acura_Honda_Nissan_lift', 18.619), ('Acura_Nissan_Honda_lift', 18.619), ('Acura_Honda_Audi_lift', 18.658), ('Acura_Audi_Honda_lift', 18.658), ('Acura_Nissan_Audi_lift', 20.249), ('Acura_Audi_Nissan_lift', 20.249), ('Acura_Toyota_Nissan_lift', 21.666), ('Acura_Nissan_Toyota_lift', 21.666), ('Acura_Toyota_Lexus_lift', 26.215), ('Acura_Lexus_Toyota_lift', 26.215), ('Acura_Lexus_BMW_lift', 55.138), ('Acura_BMW_Lexus_lift', 55.138), ('Acura_Lexus_Audi_lift', 81.618), ('Acura_Audi_Lexus_lift', 81.618), ('Acura_BMW_Audi_lift', 96.416), ('Acura_Audi_BMW_lift', 96.416)]\n",
      "\n",
      "\n"
     ]
    }
   ],
   "source": [
    "# overlapping need to handle\n",
    "\n",
    "def tri_gram(makes):\n",
    "    for outer_make in makes:\n",
    "\n",
    "        frequency = {}   # count comentioned \n",
    "        lift = {}\n",
    "        temp = pd.read_csv('data/{}.csv'.format(outer_make))\n",
    "        num_review['{}'.format(outer_make)] = temp.shape[0]\n",
    "        \n",
    "        mid_makes = [make for make in makes if make != outer_make]\n",
    "        for mid_make in mid_makes:\n",
    "            for inner_make in [make for make in mid_makes if make != mid_make]:\n",
    "                combined_name = '{}_{}_{}'.format(outer_make, mid_make, inner_make)\n",
    "                counter = 0   # counter for appearence\n",
    "    \n",
    "                for review in temp['review']:\n",
    "                    if mid_make in str(review):\n",
    "                        if inner_make in str(review):\n",
    "                            counter += 1\n",
    "                frequency[combined_name] = counter\n",
    "                lift[combined_name+'_lift'] = round(frequency[combined_name] / \\\n",
    "                        (num_review[combined_name.split('_')[0]] * \\\n",
    "                        num_review[combined_name.split('_')[1]] *\\\n",
    "                        num_review[combined_name.split('_')[2]]) * 10**13, 3)   # scale by 10e13 and keep 3 digits\n",
    "#         print(frequency)\n",
    "        sorted_lift = sorted(lift.items(), key=operator.itemgetter(1))          # sort dict by value\n",
    "        print(sorted_lift)\n",
    "        print('\\n')\n",
    "        \n",
    "tri_gram(makes)"
   ]
  },
  {
   "cell_type": "code",
   "execution_count": null,
   "metadata": {},
   "outputs": [],
   "source": [
    "# sort\n",
    "# 3-gram\n",
    "# comments"
   ]
  },
  {
   "cell_type": "code",
   "execution_count": 41,
   "metadata": {},
   "outputs": [],
   "source": [
    "\\"
   ]
  },
  {
   "cell_type": "code",
   "execution_count": null,
   "metadata": {},
   "outputs": [],
   "source": []
  }
 ],
 "metadata": {
  "kernelspec": {
   "display_name": "Python 3",
   "language": "python",
   "name": "python3"
  },
  "language_info": {
   "codemirror_mode": {
    "name": "ipython",
    "version": 3
   },
   "file_extension": ".py",
   "mimetype": "text/x-python",
   "name": "python",
   "nbconvert_exporter": "python",
   "pygments_lexer": "ipython3",
   "version": "3.6.7"
  }
 },
 "nbformat": 4,
 "nbformat_minor": 2
}
